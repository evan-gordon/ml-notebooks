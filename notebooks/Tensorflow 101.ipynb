{
 "cells": [
  {
   "cell_type": "markdown",
   "metadata": {},
   "source": [
    "# Trensorflow Example\n",
    "\n",
    "## Evan Gordon\n",
    "\n",
    "This notebook is based off of the example tensor at:\n",
    "https://cobaltai.in/tag/tensorflow/"
   ]
  },
  {
   "cell_type": "code",
   "execution_count": 6,
   "metadata": {},
   "outputs": [],
   "source": [
    "import matplotlib.pyplot as plt\n",
    "import numpy as np\n",
    "import tensorflow as tf"
   ]
  },
  {
   "cell_type": "code",
   "execution_count": 2,
   "metadata": {},
   "outputs": [],
   "source": [
    "#define print function\n",
    "def showOutput(o):\n",
    "    print('Output type was: ')\n",
    "    print(type(o))\n",
    "    print('This tensor calculated: ' + str(o) + '\\nThe expected result was: 23')"
   ]
  },
  {
   "cell_type": "code",
   "execution_count": 3,
   "metadata": {},
   "outputs": [
    {
     "name": "stdout",
     "output_type": "stream",
     "text": [
      "Output type was: \n",
      "<class 'numpy.int32'>\n",
      "This tensor calculated: 23\n",
      "The expected result was: 23\n"
     ]
    }
   ],
   "source": [
    "a = tf.constant(5, name=\"input_a\")#input of value 5\n",
    "b = tf.constant(3, name=\"input_b\")#input of value 3\n",
    "\n",
    "c = tf.add(a, b, name='add_c')#add a & b = 8\n",
    "d = tf.multiply(a, b, name='multiply_d')#multiply a & b = 15\n",
    "                \n",
    "e = tf.add(c, d, name='add_e')#add c + d = 23\n",
    "\n",
    "sess = tf.Session()\n",
    "output = sess.run(e)\n",
    "showOutput(output)"
   ]
  },
  {
   "cell_type": "markdown",
   "metadata": {},
   "source": [
    "Now we will do the same thing with tensor objects"
   ]
  },
  {
   "cell_type": "code",
   "execution_count": 4,
   "metadata": {},
   "outputs": [
    {
     "name": "stdout",
     "output_type": "stream",
     "text": [
      "Output type was: \n",
      "<class 'tensorflow.python.framework.ops.Tensor'>\n",
      "This tensor calculated: Tensor(\"add_d:0\", shape=(), dtype=int32)\n",
      "The expected result was: 23\n"
     ]
    }
   ],
   "source": [
    "inputs = tf.constant([5,3], name=\"input_row\")\n",
    "sum_left = tf.reduce_sum(a, name=\"sum_left\")\n",
    "product_right = tf.reduce_prod(a, name=\"prod_right\")\n",
    "sum_final = tf.add(sum_left, product_right, name=\"add_d\")#initializes  add op\n",
    "\n",
    "sess = tf.Session()\n",
    "output = sess.run(sum_final)\n",
    "showOutput(sum_final)"
   ]
  },
  {
   "cell_type": "markdown",
   "metadata": {},
   "source": [
    "### Working with numpy\n",
    "\n",
    "Sometimes with tensorflow we'll want to work with numpy datatypes, thankfully tensorflow has resources built in for that"
   ]
  },
  {
   "cell_type": "code",
   "execution_count": 7,
   "metadata": {},
   "outputs": [],
   "source": [
    "a = np.array([2, 3], dtype=np.int32)\n",
    "b = np.array([4, 5], dtype=np.int32)\n",
    "\n",
    "c = tf.add(a, b)"
   ]
  },
  {
   "cell_type": "markdown",
   "metadata": {},
   "source": [
    "### Math with Tensorflow\n",
    "\n",
    "The following is a list of common mathematical operations that are overloaded in tensorflow<br/>\n",
    "`\n",
    "z = -x  # z = tf.negative(x)<br/>\n",
    "z = x + y  # z = tf.add(x, y))<br/>\n",
    "z = x - y  # z = tf.subtract(x, y))<br/>\n",
    "z = x * y  # z = tf.multiply(x, y))<br/>\n",
    "z = x / y  # z = tf.div(x, y))<br/>\n",
    "z = x // y  # z = tf.floordiv(x, y))<br/>\n",
    "z = x % y  # z = tf.mod(x, y))<br/>\n",
    "z = x ** y  # z = tf.pow(x, y))<br/>\n",
    "z = x @ y  # z = tf.matmul(x, y))<br/>\n",
    "z = x > y  # z = tf.greater(x, y))<br/>\n",
    "z = x >= y  # z = tf.greater_equal(x, y))<br/>\n",
    "z = x < y  # z = tf.less(x, y))<br/>\n",
    "z = x <= y  # z = tf.less_equal(x, y))<br/>\n",
    "z = abs(x)  # z = tf.abs(x))<br/>\n",
    "z = x & y  # z = tf.logical_and(x, y))<br/>\n",
    "z = x | y  # z = tf.logical_or(x, y))<br/>\n",
    "z = x ^ y  # z = tf.logical_xor(x, y))<br/>\n",
    "z = ~x  # z = tf.logical_not(x))<br/>\n",
    "`"
   ]
  },
  {
   "cell_type": "markdown",
   "metadata": {},
   "source": [
    "### Tensorflow Graphs\n",
    "Graphs are essentially models. Behind the scenes tesorflow by default will create a graph for you, when you scope a graph with `with my_graph.as_default():` you can define additional models.<br/>\n",
    "BEST PRACTICE!!!<br/>\n",
    "Don't use the default graph, always scope!<br/>\n",
    "Assign the default graph to a variable right off the bat!<br/>"
   ]
  },
  {
   "cell_type": "code",
   "execution_count": 9,
   "metadata": {},
   "outputs": [],
   "source": [
    "default_graph = tf.get_default_graph()\n",
    "\n",
    "att_to_default_graph = tf.add(3, 4) # add to default graph\n",
    "\n",
    "graph = tf.Graph() #explicitly create graph\n",
    "\n",
    "with graph.as_default(): #modify graph (model)\n",
    "    a = tf.multiply(2, 3)\n",
    "    \n",
    "    # ...\n",
    "\n",
    "with default_graph.as_default():\n",
    "    b = tf.add(4, 5)\n",
    "    \n",
    "also_default = tf.div(2, 1)"
   ]
  },
  {
   "cell_type": "markdown",
   "metadata": {},
   "source": [
    "### Tensorflow Sessions\n",
    "\n",
    "Now that we have defined our graphs, we need to... do something with them!<br/>\n",
    "\n",
    "A `tf.Session()` has three optional constructor arguments<br/> \n",
    "First, `target`, for connecting to tf.train.Server instances to speed up training<br/> \n",
    "Second, `graph`, can be left blank for using the default.<br/> \n",
    "Finally, `config`, Used for config options such as limiting number of cpus/gpus to be used, and logging options<br/> \n",
    "\n",
    "#### Session Functions\n",
    "`run`: Runs operations and evaluates tensor<br/>\n",
    "`as_default`: Like with Graphs, used to scope session, a scoped session automatically calls close<br/>\n",
    "`close`: Release session resources, make sure to do this after you are done. Only use when outside of context<br/>\n",
    "`reset`: Resets target session<br/>"
   ]
  },
  {
   "cell_type": "code",
   "execution_count": 17,
   "metadata": {},
   "outputs": [
    {
     "name": "stdout",
     "output_type": "stream",
     "text": [
      "Result from session one:\n",
      "30.0\n",
      "Result from session two:\n",
      "30.0\n"
     ]
    }
   ],
   "source": [
    "# Build a graph.\n",
    "a = tf.constant(5.0)\n",
    "b = tf.constant(6.0)\n",
    "c = a * b\n",
    "\n",
    "# From Tensorflow docs, these  are equivilent\n",
    "# 1) Using the `close()` method.\n",
    "sess = tf.Session()\n",
    "print('Result from session one:')\n",
    "print(sess.run(c))\n",
    "sess.close()\n",
    "\n",
    "\n",
    "# 2) Using the context manager.\n",
    "with tf.Session() as sess:\n",
    "  print('Result from session two:')\n",
    "  print(sess.run(c))\n"
   ]
  },
  {
   "cell_type": "markdown",
   "metadata": {},
   "source": [
    "### Tensorflow Placeholders\n",
    "\n",
    "We're getting closer to some real Machine Learning here. Up until now we've done simple calculations, but we will need to be able to work on larger sets of data if we want to really get cooking. We can use Placeholders to get one step closer to that."
   ]
  },
  {
   "cell_type": "code",
   "execution_count": 21,
   "metadata": {},
   "outputs": [
    {
     "name": "stdout",
     "output_type": "stream",
     "text": [
      "[ 2.  4.  6.  8. 10.]\n"
     ]
    }
   ],
   "source": [
    "a = tf.placeholder(\"float\", None)\n",
    "b = a * 2\n",
    "\n",
    "with tf.Session() as session:\n",
    "    result = session.run(b, feed_dict={a: [1, 2, 3, 4 ,5]})#fedd_dict will feed data into the graph\n",
    "    print(result)\n",
    "    "
   ]
  },
  {
   "cell_type": "code",
   "execution_count": null,
   "metadata": {},
   "outputs": [],
   "source": []
  }
 ],
 "metadata": {
  "kernelspec": {
   "display_name": "Python 3",
   "language": "python",
   "name": "python3"
  },
  "language_info": {
   "codemirror_mode": {
    "name": "ipython",
    "version": 3
   },
   "file_extension": ".py",
   "mimetype": "text/x-python",
   "name": "python",
   "nbconvert_exporter": "python",
   "pygments_lexer": "ipython3",
   "version": "3.5.2"
  }
 },
 "nbformat": 4,
 "nbformat_minor": 2
}
