{
 "cells": [
  {
   "cell_type": "markdown",
   "metadata": {},
   "source": [
    "# Trensorflow Example\n",
    "\n",
    "## Evan Gordon\n",
    "\n",
    "This notebook is based off of the example tensor at:\n",
    "https://cobaltai.in/tag/tensorflow/"
   ]
  },
  {
   "cell_type": "code",
   "execution_count": 6,
   "metadata": {},
   "outputs": [],
   "source": [
    "import matplotlib.pyplot as plt\n",
    "import numpy as np\n",
    "import tensorflow as tf"
   ]
  },
  {
   "cell_type": "code",
   "execution_count": 2,
   "metadata": {},
   "outputs": [],
   "source": [
    "#define print function\n",
    "def showOutput(o):\n",
    "    print('Output type was: ')\n",
    "    print(type(o))\n",
    "    print('This tensor calculated: ' + str(o) + '\\nThe expected result was: 23')"
   ]
  },
  {
   "cell_type": "code",
   "execution_count": 3,
   "metadata": {},
   "outputs": [
    {
     "name": "stdout",
     "output_type": "stream",
     "text": [
      "Output type was: \n",
      "<class 'numpy.int32'>\n",
      "This tensor calculated: 23\n",
      "The expected result was: 23\n"
     ]
    }
   ],
   "source": [
    "a = tf.constant(5, name=\"input_a\")#input of value 5\n",
    "b = tf.constant(3, name=\"input_b\")#input of value 3\n",
    "\n",
    "c = tf.add(a, b, name='add_c')#add a & b = 8\n",
    "d = tf.multiply(a, b, name='multiply_d')#multiply a & b = 15\n",
    "                \n",
    "e = tf.add(c, d, name='add_e')#add c + d = 23\n",
    "\n",
    "sess = tf.Session()\n",
    "output = sess.run(e)\n",
    "showOutput(output)"
   ]
  },
  {
   "cell_type": "markdown",
   "metadata": {},
   "source": [
    "Now we will do the same thing with tensor objects"
   ]
  },
  {
   "cell_type": "code",
   "execution_count": 4,
   "metadata": {},
   "outputs": [
    {
     "name": "stdout",
     "output_type": "stream",
     "text": [
      "Output type was: \n",
      "<class 'tensorflow.python.framework.ops.Tensor'>\n",
      "This tensor calculated: Tensor(\"add_d:0\", shape=(), dtype=int32)\n",
      "The expected result was: 23\n"
     ]
    }
   ],
   "source": [
    "inputs = tf.constant([5,3], name=\"input_row\")\n",
    "sum_left = tf.reduce_sum(a, name=\"sum_left\")\n",
    "product_right = tf.reduce_prod(a, name=\"prod_right\")\n",
    "sum_final = tf.add(sum_left, product_right, name=\"add_d\")#initializes  add op\n",
    "\n",
    "sess = tf.Session()\n",
    "output = sess.run(sum_final)\n",
    "showOutput(sum_final)"
   ]
  },
  {
   "cell_type": "markdown",
   "metadata": {},
   "source": [
    "### Working with numpy\n",
    "\n",
    "Sometimes with tensorflow we'll want to work with numpy datatypes, thankfully tensorflow has resources built in for that"
   ]
  },
  {
   "cell_type": "code",
   "execution_count": 7,
   "metadata": {},
   "outputs": [],
   "source": [
    "a = np.array([2, 3], dtype=np.int32)\n",
    "b = np.array([4, 5], dtype=np.int32)\n",
    "\n",
    "c = tf.add(a, b)"
   ]
  },
  {
   "cell_type": "markdown",
   "metadata": {},
   "source": [
    "### Math with Tensorflow\n",
    "\n",
    "The following is a list of common mathematical operations that are overloaded in tensorflow<br/>\n",
    "`\n",
    "z = -x  # z = tf.negative(x)<br/>\n",
    "z = x + y  # z = tf.add(x, y))<br/>\n",
    "z = x - y  # z = tf.subtract(x, y))<br/>\n",
    "z = x * y  # z = tf.multiply(x, y))<br/>\n",
    "z = x / y  # z = tf.div(x, y))<br/>\n",
    "z = x // y  # z = tf.floordiv(x, y))<br/>\n",
    "z = x % y  # z = tf.mod(x, y))<br/>\n",
    "z = x ** y  # z = tf.pow(x, y))<br/>\n",
    "z = x @ y  # z = tf.matmul(x, y))<br/>\n",
    "z = x > y  # z = tf.greater(x, y))<br/>\n",
    "z = x >= y  # z = tf.greater_equal(x, y))<br/>\n",
    "z = x < y  # z = tf.less(x, y))<br/>\n",
    "z = x <= y  # z = tf.less_equal(x, y))<br/>\n",
    "z = abs(x)  # z = tf.abs(x))<br/>\n",
    "z = x & y  # z = tf.logical_and(x, y))<br/>\n",
    "z = x | y  # z = tf.logical_or(x, y))<br/>\n",
    "z = x ^ y  # z = tf.logical_xor(x, y))<br/>\n",
    "z = ~x  # z = tf.logical_not(x))<br/>\n",
    "`"
   ]
  },
  {
   "cell_type": "markdown",
   "metadata": {},
   "source": [
    "### Tensorflow Graphs\n",
    "Graphs are essentially models. Behind the scenes tesorflow by default will create a graph for you, when you scope a graph with `with my_graph.as_default():` you can define additional models.<br/>\n",
    "BEST PRACTICE!!!<br/>\n",
    "Don't use the default graph, always scope!<br/>\n",
    "Assign the default graph to a variable right off the bat!<br/>"
   ]
  },
  {
   "cell_type": "code",
   "execution_count": 9,
   "metadata": {},
   "outputs": [],
   "source": [
    "default_graph = tf.get_default_graph()\n",
    "\n",
    "att_to_default_graph = tf.add(3, 4) # add to default graph\n",
    "\n",
    "graph = tf.Graph() #explicitly create graph\n",
    "\n",
    "with graph.as_default(): #modify graph (model)\n",
    "    a = tf.multiply(2, 3)\n",
    "    \n",
    "    # ...\n",
    "\n",
    "with default_graph.as_default():\n",
    "    b = tf.add(4, 5)\n",
    "    \n",
    "also_default = tf.div(2, 1)"
   ]
  },
  {
   "cell_type": "markdown",
   "metadata": {},
   "source": [
    "### Tensorflow Sessions\n",
    "\n",
    "Now that we have defined our graphs, we need to... do something with them!<br/>\n",
    "\n",
    "A `tf.Session()` has three optional constructor arguments<br/> \n",
    "First, `target`, for connecting to tf.train.Server instances to speed up training<br/> \n",
    "Second, `graph`, can be left blank for using the default.<br/> \n",
    "Finally, `config`, Used for config options such as limiting number of cpus/gpus to be used, and logging options<br/> \n",
    "\n",
    "#### Session Functions\n",
    "`run`: Runs operations and evaluates tensor<br/>\n",
    "`as_default`: Like with Graphs, used to scope session, a scoped session automatically calls close<br/>\n",
    "`close`: Release session resources, make sure to do this after you are done. Only use when outside of context<br/>\n",
    "`reset`: Resets target session<br/>"
   ]
  },
  {
   "cell_type": "code",
   "execution_count": 17,
   "metadata": {},
   "outputs": [
    {
     "name": "stdout",
     "output_type": "stream",
     "text": [
      "Result from session one:\n",
      "30.0\n",
      "Result from session two:\n",
      "30.0\n"
     ]
    }
   ],
   "source": [
    "# Build a graph.\n",
    "a = tf.constant(5.0)\n",
    "b = tf.constant(6.0)\n",
    "c = a * b\n",
    "\n",
    "# From Tensorflow docs, these  are equivilent\n",
    "# 1) Using the `close()` method.\n",
    "sess = tf.Session()\n",
    "print('Result from session one:')\n",
    "print(sess.run(c))\n",
    "sess.close()\n",
    "\n",
    "\n",
    "# 2) Using the context manager.\n",
    "with tf.Session() as sess:\n",
    "  print('Result from session two:')\n",
    "  print(sess.run(c))\n"
   ]
  },
  {
   "cell_type": "markdown",
   "metadata": {},
   "source": [
    "### Tensorflow Placeholders\n",
    "\n",
    "We're getting closer to some real Machine Learning here. Up until now we've done simple calculations, but we will need to be able to work on larger sets of data if we want to really get cooking. We can use Placeholders to get one step closer to that."
   ]
  },
  {
   "cell_type": "code",
   "execution_count": 39,
   "metadata": {},
   "outputs": [
    {
     "name": "stdout",
     "output_type": "stream",
     "text": [
      "Result of graph 1:\n",
      "[ 2.  4.  6.  8. 10.]\n",
      "Result of graph 2:\n",
      "[0.5 1.  1.5 2.  2.5]\n"
     ]
    }
   ],
   "source": [
    "g1 = tf.Graph()\n",
    "with g1.as_default():\n",
    "    a = tf.placeholder(\"float\", None)\n",
    "    b = a * 2\n",
    "\n",
    "with tf.Session(graph=g1) as session:\n",
    "    result = session.run(b, feed_dict={a: [1, 2, 3, 4 ,5]})#fedd_dict will feed data into the graph\n",
    "    print('Result of graph 1:')\n",
    "    print(result)\n",
    "\n",
    "\n",
    "#you can also declare the placeholder values prior to the run\n",
    "g2 = tf.Graph()\n",
    "with g2.as_default():\n",
    "    c = tf.placeholder(\"float\", None)\n",
    "    d = tf.div(c, 2)\n",
    "i_dict = {c: np.array([1, 2, 3, 4, 5], dtype=np.int32)} #c is the handle to the placeholder's output tensor\n",
    "with tf.Session(graph=g2) as sess:\n",
    "    result = sess.run(d, feed_dict=i_dict)\n",
    "    print('Result of graph 2:')\n",
    "    print(result)\n",
    "    "
   ]
  },
  {
   "cell_type": "markdown",
   "metadata": {},
   "source": [
    "### Tensorflow Variables\n",
    "\n",
    "These are mutable data objects that can be used over multiple run calls. They can be used in tensorflow anywhere you might use a tensor.<br/>\n",
    "\n",
    "Because variable objects live within the graph they must also be explicitly initialized with `tf.global_variables_initializer()`.<br/>\n",
    "You can use `.eval()` on a variable to return its value. Like:<br/>\n",
    "```\n",
    "val = my_var.eval()\n",
    "print(val)\n",
    "```\n",
    "Generally to initialize variables you can use:\n",
    "```\n",
    "tf.initialize_variables([<list>, <of>, <vars>], name=\"<var_name>\")\n",
    "```"
   ]
  },
  {
   "cell_type": "code",
   "execution_count": 89,
   "metadata": {},
   "outputs": [
    {
     "name": "stdout",
     "output_type": "stream",
     "text": [
      "None\n",
      "8\n",
      "24\n",
      "32\n",
      "\n",
      "Now using random value 3x3x3 matrix\n",
      "None\n",
      "[[[ 0.3646946   2.069419    1.5383494 ]\n",
      "  [ 0.8336835  -1.0784833  -0.24278998]\n",
      "  [ 4.052278    1.6542242  -1.5190055 ]]\n",
      "\n",
      " [[ 3.8875957   1.2246692   4.3260927 ]\n",
      "  [ 2.2855372   1.1833329   2.9488802 ]\n",
      "  [-0.43104434 -0.18736339  0.69725966]]\n",
      "\n",
      " [[ 4.2174616   1.6233488   2.3639822 ]\n",
      "  [ 3.9829865   3.3423777   1.8756356 ]\n",
      "  [ 5.8693156   3.14119    -0.04588413]]]\n"
     ]
    }
   ],
   "source": [
    "my_var = tf.Variable(3, name=\"my_variable\")#starting variable my_var=3\n",
    "default_graph = tf.get_default_graph()\n",
    "with default_graph.as_default():\n",
    "    add = tf.add(5, my_var)\n",
    "    mul = tf.multiply(8, my_var)\n",
    "    add2 = tf.add(add, mul)\n",
    "\n",
    "    init = tf.global_variables_initializer()\n",
    "    with tf.Session(graph=default_graph) as sess:\n",
    "        result = sess.run(init)#init variables\n",
    "        print(result)\n",
    "        result2 = sess.run(add)#5 + my_val\n",
    "        print(result2)\n",
    "        result3 = sess.run(mul)#8 * my_var\n",
    "        print(result3)\n",
    "        result4 = sess.run(add2)#add_output + mul_output\n",
    "        print(result4)\n",
    "    \n",
    "print('\\nNow using random value 3x3x3 matrix')\n",
    "g2 = tf.Graph()\n",
    "with g2.as_default():\n",
    "    #create 3x3x3 Tensor of normally distributed numbers; mean 0 and standard deviation 2\n",
    "    normal = tf.truncated_normal([3,3,3], mean=0.0 , stddev=2.0)#random_normal also works, but truncated is better\n",
    "    add = tf.add(tf.cast(2, tf.float32), normal)\n",
    "    with tf.Session(graph=g2) as session:\n",
    "        result = session.run(tf.global_variables_initializer())\n",
    "        print(result)\n",
    "        result2 = session.run(add)\n",
    "        print(result2)"
   ]
  },
  {
   "cell_type": "markdown",
   "metadata": {},
   "source": [
    "### Lets go back to our original example\n",
    "\n",
    "We can now use a more tensorflow structure in our original example. "
   ]
  },
  {
   "cell_type": "code",
   "execution_count": 51,
   "metadata": {},
   "outputs": [
    {
     "name": "stdout",
     "output_type": "stream",
     "text": [
      "23\n"
     ]
    }
   ],
   "source": [
    "g = tf.Graph()\n",
    "with g.as_default():\n",
    "    a = tf.constant([5,3], name=\"input_a\")\n",
    "    b = tf.reduce_sum(a, name=\"sum_b\")\n",
    "    c = tf.reduce_prod(a, name=\"prod_c\")\n",
    "    d = tf.add(b,c, name=\"add_d\")\n",
    "\n",
    "with tf.Session(graph=g) as sess:\n",
    "    result = sess.run(d)\n",
    "    print(result)"
   ]
  },
  {
   "cell_type": "markdown",
   "metadata": {},
   "source": [
    "### Onward to Gradient decent\n",
    "\n",
    "We're now moving on to the real fundamentals to of machine learning. If you dont know what Gradient decent is, don't worry, head on over to: https://cobaltai.in/understanding-gradient-descent/ for a solid article on the subject.<br/>\n",
    "\n",
    "Now in the spirit of the tutorial that we're working along, we're going to create a simple model to predict y given an x value"
   ]
  },
  {
   "cell_type": "code",
   "execution_count": 140,
   "metadata": {},
   "outputs": [],
   "source": [
    "#functions\n",
    "def loss(X, Y, weight, bias):# Return the loss value for a given prediction, loss is how far off our prediction was or the mean squared error\n",
    "    Y_predicted = tf.add(tf.multiply(X, weight), bias)# Return the predicted value for given input `X`\n",
    "    return tf.reduce_sum(tf.squared_difference(Y, Y_predicted))"
   ]
  },
  {
   "cell_type": "code",
   "execution_count": 141,
   "metadata": {},
   "outputs": [
    {
     "name": "stdout",
     "output_type": "stream",
     "text": [
      "14.118301\n",
      "13.827997\n",
      "13.546494\n",
      "13.27349\n",
      "13.008747\n",
      "12.752002\n",
      "12.503017\n",
      "12.261558\n",
      "12.027391\n",
      "11.800306\n",
      "\n",
      "Training cost= 11.582259 W= 0.48090044 b= -0.14009394 \n",
      "\n"
     ]
    },
    {
     "data": {
      "image/png": "[encoded data removed]",
      "text/plain": [
       "<matplotlib.figure.Figure at 0x7fcb3de6c6d8>"
      ]
     },
     "metadata": {},
     "output_type": "display_data"
    }
   ],
   "source": [
    "#variables\n",
    "log_step = 100\n",
    "rng = np.random\n",
    "graph = tf.Graph()\n",
    "np.random.seed(42)#for reproducability\n",
    "learning_rate = 0.0000001#learning rate is used to define how fast the model will 'learn'\n",
    "\n",
    "with graph.as_default():\n",
    "    #use random weight and bias\n",
    "    W = tf.Variable(rng.randn(), name=\"weights\")\n",
    "    b = tf.Variable(rng.randn(), name=\"bias\")\n",
    "    x = np.asarray([3.3,4.4,5.5,6.71,6.93,4.168,9.779,6.182,7.59,2.167,\n",
    "                        7.042,10.791,5.313,7.997,5.654,9.27,3.1])\n",
    "    y = np.asarray([1.7,2.76,2.09,3.19,1.694,1.573,3.366,2.596,2.53,1.221,\n",
    "                        2.827,3.465,1.65,2.904,2.42,2.94,1.3])\n",
    "    train_X = tf.to_float(x)\n",
    "    train_Y = tf.to_float(y)\n",
    "    \n",
    "    with tf.Session() as sess:\n",
    "        tf.global_variables_initializer().run()#init tf variables\n",
    "        total_loss = loss(train_X, train_Y, W, b)\n",
    "        train_op = tf.train.GradientDescentOptimizer(learning_rate).minimize(total_loss)\n",
    "        coord = tf.train.Coordinator()#this guy creates the threads for our training\n",
    "        threads = tf.train.start_queue_runners(sess=sess, coord=coord)#start queue\n",
    "        training_steps = 1000#often in ml called epochs\n",
    "        for step in range(training_steps):#run session\n",
    "            sess.run(train_op)\n",
    "            if(step % log_step == 0):\n",
    "                print(total_loss.eval())\n",
    "\n",
    "        coord.request_stop()\n",
    "        coord.join(threads)\n",
    "        \n",
    "        # Define data for plotting fitted line\n",
    "        X_plot = np.arange(20, step=0.1)\n",
    "        y_plot = float(sess.run(W)) * X_plot + float(sess.run(b))\n",
    "        \n",
    "        training_cost = sess.run(total_loss, feed_dict={train_X: x, train_Y: y})\n",
    "        print(\"\\nTraining cost=\", training_cost, \"W=\", sess.run(W), \"b=\", sess.run(b), '\\n')\n",
    "        plt.plot(x, y, 'ro', label='Input data')\n",
    "        plt.plot(X_plot, y_plot, label='Fitted line')#plot prediction graph\n",
    "        plt.legend()\n",
    "        plt.show()\n",
    "        \n",
    "        sess.close()"
   ]
  },
  {
   "cell_type": "code",
   "execution_count": null,
   "metadata": {},
   "outputs": [],
   "source": []
  },
  {
   "cell_type": "code",
   "execution_count": null,
   "metadata": {},
   "outputs": [],
   "source": []
  }
 ],
 "metadata": {
  "kernelspec": {
   "display_name": "Python 3",
   "language": "python",
   "name": "python3"
  },
  "language_info": {
   "codemirror_mode": {
    "name": "ipython",
    "version": 3
   },
   "file_extension": ".py",
   "mimetype": "text/x-python",
   "name": "python",
   "nbconvert_exporter": "python",
   "pygments_lexer": "ipython3",
   "version": "3.5.2"
  }
 },
 "nbformat": 4,
 "nbformat_minor": 2
}
