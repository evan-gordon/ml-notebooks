{
 "cells": [
  {
   "cell_type": "code",
   "execution_count": 16,
   "metadata": {},
   "outputs": [
    {
     "name": "stdout",
     "output_type": "stream",
     "text": [
      "(Number of 'pictures', Pixels per image)\n",
      "(1797, 64)\n"
     ]
    }
   ],
   "source": [
    "from sklearn.datasets import load_digits\n",
    "digits = load_digits()\n",
    "print(\"(Number of 'pictures', Pixels per image)\")\n",
    "print(digits.data.shape)"
   ]
  },
  {
   "cell_type": "code",
   "execution_count": 19,
   "metadata": {},
   "outputs": [
    {
     "data": {
      "text/plain": [
       "<matplotlib.figure.Figure at 0x7fe9a94d9940>"
      ]
     },
     "metadata": {},
     "output_type": "display_data"
    },
    {
     "data": {
      "image/png": "[encoded data removed]",
      "text/plain": [
       "<matplotlib.figure.Figure at 0x7fe9a94d99b0>"
      ]
     },
     "metadata": {},
     "output_type": "display_data"
    }
   ],
   "source": [
    "import matplotlib.pyplot as plt \n",
    "plt.gray() \n",
    "plt.matshow(digits.images[3]) \n",
    "plt.show() "
   ]
  },
  {
   "cell_type": "code",
   "execution_count": 20,
   "metadata": {},
   "outputs": [
    {
     "data": {
      "image/png": "[encoded data removed]",
      "text/plain": [
       "<matplotlib.figure.Figure at 0x7fe9ad90ce10>"
      ]
     },
     "metadata": {},
     "output_type": "display_data"
    }
   ],
   "source": [
    "images_and_labels = list(zip(digits.images, digits.target))\n",
    "\n",
    "\n",
    "for index, (image, label) in enumerate(images_and_labels[:4]):\n",
    "    plt.subplot(2, 4, index + 1)\n",
    "    plt.axis('off')\n",
    "    plt.imshow(image, cmap=plt.cm.gray_r, interpolation='nearest')\n",
    "    plt.title('Training: %i' % label)\n",
    "\n",
    "plt.show()"
   ]
  },
  {
   "cell_type": "code",
   "execution_count": 31,
   "metadata": {},
   "outputs": [
    {
     "name": "stdout",
     "output_type": "stream",
     "text": [
      "Confusion Matrix\n",
      "[[43  0  0  0  0  0  0  0  0  0]\n",
      " [ 0 30  0  0  0  0  1  0  4  0]\n",
      " [ 0  0 27  0  0  0  0  0  0  0]\n",
      " [ 0  0  0 36  0  0  0  1  2  1]\n",
      " [ 0  1  0  0 30  0  0  0  0  0]\n",
      " [ 0  2  0  0  0 41  2  0  0  0]\n",
      " [ 0  0  0  0  0  0 37  0  0  0]\n",
      " [ 0  0  0  0  0  0  0 39  0  0]\n",
      " [ 0  2  0  0  0  0  0  0 32  0]\n",
      " [ 0  0  0  0  0  0  0  0  1 28]]\n"
     ]
    }
   ],
   "source": [
    "# flatten the image.\n",
    "# turn the data into a (samples, feature) matrix:\n",
    "n_samples = len(digits.images)\n",
    "data = digits.images.reshape((n_samples, -1))\n",
    "#split into test and training\n",
    "import pandas as pd\n",
    "from sklearn.linear_model import LogisticRegression\n",
    "from sklearn.model_selection import train_test_split\n",
    "from sklearn.metrics import confusion_matrix\n",
    "from sklearn import metrics\n",
    "\n",
    "X_train, X_test, y_train, y_test = train_test_split(data, digits.target, test_size=0.2)\n",
    "reg = LogisticRegression(solver = 'lbfgs')\n",
    "reg.fit(X_train, y_train)\n",
    "prediction = reg.predict(X_test)\n",
    "\n",
    "conf = confusion_matrix(y_test, prediction)\n",
    "print(\"Confusion Matrix\")\n",
    "print(conf)\n",
    "#From what i understand SKlearn orders columns in ascending order, so the order of the confusion matrix is as follows:\n",
    "#0, 1, 2, 3, 4, 5, 6, 7, 8, 9"
   ]
  },
  {
   "cell_type": "code",
   "execution_count": 33,
   "metadata": {},
   "outputs": [
    {
     "name": "stdout",
     "output_type": "stream",
     "text": [
      "             precision    recall  f1-score   support\n",
      "\n",
      "          0       1.00      1.00      1.00        43\n",
      "          1       0.86      0.86      0.86        35\n",
      "          2       1.00      1.00      1.00        27\n",
      "          3       1.00      0.90      0.95        40\n",
      "          4       1.00      0.97      0.98        31\n",
      "          5       1.00      0.91      0.95        45\n",
      "          6       0.93      1.00      0.96        37\n",
      "          7       0.97      1.00      0.99        39\n",
      "          8       0.82      0.94      0.88        34\n",
      "          9       0.97      0.97      0.97        29\n",
      "\n",
      "avg / total       0.96      0.95      0.95       360\n",
      "\n"
     ]
    }
   ],
   "source": [
    "from sklearn.metrics import classification_report\n",
    "print(classification_report(y_test, prediction))"
   ]
  },
  {
   "cell_type": "markdown",
   "metadata": {},
   "source": [
    "## Questions\n",
    "\n",
    "### Which digits are most often confused by the model? \n",
    "\n",
    "The digit that was most often confused was; there were four instances where a one was displayed but an 8 was predicted. There was also 2 cases where 8 was shown but one was predicted. I am not really sure why this would have been the case, i know 1 can be drawn a lot of different ways but im not sure why this would have been the case.\n",
    "\n",
    "### What is the accuracy of the model? \n",
    "\n",
    "The precision column of the table rated this model as being 96% accurate. I was really suprised by this as compared to previous models that we've attempted in class.\n",
    "\n",
    "### Which digits are most often reognized correctly? \n",
    "\n",
    "The digits 0, and 2, came in as 100% accurate, being both predicted and guessed right every time. 4 and 5 were very accurate as well though not perfect.\n",
    "\n",
    "### Which are recognized incorrectly?\n",
    "\n",
    "The digits 8 and 1 seemed to be predicted falsely the most. If i had to guess offhand what digits would be guessed wrong the most, i wouldn't have guessed 8, so it somewhat shocked me when 8 and one were mixed up so much. This compounds my confusion since the other digits were predicted so acuratly. Something i would like to see in the future would be the actual images from the incorrectly guessed data so i can possibly see why these digits were predicted so wrong.\n",
    "\n",
    "## Afterthoughts\n",
    "\n",
    "My one question with this model is, what could be done to increase the accuracy of the model for future runs?\n",
    "How might i adapt this code to be able to read numbers with more than one digit in the picture?"
   ]
  }
 ],
 "metadata": {
  "kernelspec": {
   "display_name": "Python 3",
   "language": "python",
   "name": "python3"
  },
  "language_info": {
   "codemirror_mode": {
    "name": "ipython",
    "version": 3
   },
   "file_extension": ".py",
   "mimetype": "text/x-python",
   "name": "python",
   "nbconvert_exporter": "python",
   "pygments_lexer": "ipython3",
   "version": "3.5.2"
  }
 },
 "nbformat": 4,
 "nbformat_minor": 2
}
