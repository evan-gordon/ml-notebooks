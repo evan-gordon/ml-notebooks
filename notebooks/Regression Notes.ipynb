{
 "cells": [
  {
   "cell_type": "markdown",
   "metadata": {},
   "source": [
    "We will start with a dataset of example values."
   ]
  },
  {
   "cell_type": "code",
   "execution_count": 13,
   "metadata": {},
   "outputs": [
    {
     "data": {
      "text/html": [
       "<div>\n",
       "<style>\n",
       "    .dataframe thead tr:only-child th {\n",
       "        text-align: right;\n",
       "    }\n",
       "\n",
       "    .dataframe thead th {\n",
       "        text-align: left;\n",
       "    }\n",
       "\n",
       "    .dataframe tbody tr th {\n",
       "        vertical-align: top;\n",
       "    }\n",
       "</style>\n",
       "<table border=\"1\" class=\"dataframe\">\n",
       "  <thead>\n",
       "    <tr style=\"text-align: right;\">\n",
       "      <th></th>\n",
       "      <th>A</th>\n",
       "      <th>B</th>\n",
       "      <th>C</th>\n",
       "    </tr>\n",
       "  </thead>\n",
       "  <tbody>\n",
       "    <tr>\n",
       "      <th>0</th>\n",
       "      <td>1</td>\n",
       "      <td>a</td>\n",
       "      <td>0</td>\n",
       "    </tr>\n",
       "    <tr>\n",
       "      <th>1</th>\n",
       "      <td>2</td>\n",
       "      <td>b</td>\n",
       "      <td>0</td>\n",
       "    </tr>\n",
       "    <tr>\n",
       "      <th>2</th>\n",
       "      <td>3</td>\n",
       "      <td>c</td>\n",
       "      <td>1</td>\n",
       "    </tr>\n",
       "    <tr>\n",
       "      <th>3</th>\n",
       "      <td>4</td>\n",
       "      <td>d</td>\n",
       "      <td>1</td>\n",
       "    </tr>\n",
       "    <tr>\n",
       "      <th>4</th>\n",
       "      <td>5</td>\n",
       "      <td>e</td>\n",
       "      <td>0</td>\n",
       "    </tr>\n",
       "  </tbody>\n",
       "</table>\n",
       "</div>"
      ],
      "text/plain": [
       "   A  B  C\n",
       "0  1  a  0\n",
       "1  2  b  0\n",
       "2  3  c  1\n",
       "3  4  d  1\n",
       "4  5  e  0"
      ]
     },
     "execution_count": 13,
     "metadata": {},
     "output_type": "execute_result"
    }
   ],
   "source": [
    "import numpy as np\n",
    "import pandas as pd\n",
    "\n",
    "d = {'A' : [1, 2, 3, 4, 5],\n",
    "      'B' : ['a', 'b', 'c', 'd', 'e'],\n",
    "        'C' : [0, 0, 1, 1, 0]}\n",
    "\n",
    "df = pd.DataFrame(d)\n",
    "df.head()"
   ]
  },
  {
   "cell_type": "markdown",
   "metadata": {},
   "source": [
    "What we want to do is use columns A, and B to predict C. For this we will need to come up with our prediction function h(x). \n",
    "We will define each predictor as an x value, ($x_1, x_2$ etc)aand the weight for that column will be the theta $\\theta$. So, the weight for each predictor that we use will be marked $\\theta_1 $, $ \\theta_2$ etc. x will be the row in the table, and our y will be our output. Thus we can define our predictor equasion as $h(x) = P(y = 1|x;\\theta)$. Because out h function is the probability that y is one we can also do $1 - h(x) = P(y = 0|x;\\theta)$ \n",
    "We can further imply that $P(y = 0) + P(y = 1) = 1$"
   ]
  },
  {
   "cell_type": "markdown",
   "metadata": {},
   "source": [
    "We want to pick a Machine Learning method that will best fit our data, and what we seek to learn.\n",
    "\n",
    "Method, h(x), J($\\theta$)\n",
    "\n",
    "Linear Reg: $(\\theta_0)^-1 + \\theta_1 x_1 + \\theta_2 x_2 + \\theta_3 x_3 = \\theta^T x$   ||   $ 1/{ 2m } \\sum_{i=1}^{m}[(y^i - h_\\theta (x^i))^2]$\n",
    "\n",
    "Logistic Reg: $ 1/(1 - e^{-\\theta Tx}) = P(y=1)$ $y \\epsilon [ 0,1 ]$   ||   $-1/{ 2m } \\sum_{i=1}^{m}[y^i log(h_\\theta (x^i))+(1 - y) log(1 - h_\\theta (x^i))]$\n",
    "\n",
    "Softmax: $h_\\theta_{k}(x) = (e^{\\theta_k Tx})/(1 + e^{\\theta_k Tx}) = P(y=k  h_{\\theta_k}(x) \\epsilon [ 0, 1 ] ) $  ||   $ -1/m \\sum_{i=1}^{m} \\sum_{k=1}^{c} (y^i log(h_{\\theta_m} (x^i)))/(\\sum_{k=1}^{c} y^i log(\\theta_k (x^i))) $\n",
    "\n",
    "?"
   ]
  }
 ],
 "metadata": {
  "kernelspec": {
   "display_name": "Python 3",
   "language": "python",
   "name": "python3"
  },
  "language_info": {
   "codemirror_mode": {
    "name": "ipython",
    "version": 3
   },
   "file_extension": ".py",
   "mimetype": "text/x-python",
   "name": "python",
   "nbconvert_exporter": "python",
   "pygments_lexer": "ipython3",
   "version": "3.5.2"
  }
 },
 "nbformat": 4,
 "nbformat_minor": 2
}
